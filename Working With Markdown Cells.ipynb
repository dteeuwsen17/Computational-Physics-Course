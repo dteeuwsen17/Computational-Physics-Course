{
 "cells": [
  {
   "cell_type": "markdown",
   "metadata": {},
   "source": [
    "# <a name=\"Title-1\">Markdown cells</a>"
   ]
  },
  {
   "cell_type": "markdown",
   "metadata": {},
   "source": [
    "Text can be added to Jupyter Notebooks using **Markdown cells**.  You can change the cell type from *Code* to Markdown by using the `Cell` menu, the toolbar, or the key shortcut `m`.  Markdown is a popular markup language that is a superset of HTML. Its specification can be found here:\n",
    "\n",
    "<https://daringfireball.net/projects/markdown/>"
   ]
  },
  {
   "cell_type": "markdown",
   "metadata": {},
   "source": [
    "## Markdown basics\n",
    "\n",
    "#### Basic style help\n",
    "\n",
    "Titles of different emphasis can be made with one to four hash marks (`#`). \n",
    "\n",
    "Paragraphs can be neatly styled with `<p>` and `</p>`. Simple breaks in the text without a empty line in between can be made with `<br>` at the break point.\n",
    "\n",
    "You can make text *italic* or **bold** with one or two `*` before and after workds.\n",
    "\n",
    "You can cahnge the <font color=\"blue\">color of a text</font> with `<font color=\"red\">this is red</font>`\n",
    "\n",
    "Use `<span>` to change the <span style='background :yellow' >background color.</span>\n",
    "\n",
    "\n",
    "#### Fonts\n",
    "<span style='font-family:Georgia'> This is the Georgia font.<br>\n",
    "<span style='font-family:Helvetica'> This is the  Helvetica font.<br>\n",
    "<span style='font-family:\"Times New Roman\"'>This is the \"Times New Roman\" font.<br>\n",
    "<span style='font-family:serif'> This is the serif font.<br>\n",
    "<span style='font-family:sans-serif'> This is the sans-serif font.\n",
    "\n",
    "#### Monospaced text\n",
    "\n",
    "Monospaced text can be made with simple single-squote marks and no indentation.\n",
    "\n",
    "`This is monospaced font`\n",
    "\n",
    "#### Inset text\n",
    "\n",
    "For quoting text, you should increase the margin with a single `>` and no indentation.\n",
    "\n",
    "> This is a quote from something else.\n",
    "\n",
    "#### Lists\n",
    "You can build nested itemized or enumerated lists:\n",
    "\n",
    "* One\n",
    "    - Sublist\n",
    "        - This\n",
    "  - Sublist\n",
    "        - That\n",
    "        - The other thing\n",
    "* Two\n",
    "  - Sublist\n",
    "* Three\n",
    "  - Sublist\n",
    "\n",
    "Now another list with the altered numbering:\n",
    "\n",
    "0. Aliquam auctor\n",
    "    1. eget est consequat\n",
    "0. Eros nec placerat auctor\n",
    "    1. lorem quam maximus sem, \n",
    "        3. quis placerat odio libero \n",
    "\n"
   ]
  },
  {
   "cell_type": "markdown",
   "metadata": {},
   "source": [
    "#### Horizontal lines\n",
    "You can add horizontal rules (they are very lightly colored):\n",
    "\n",
    "---\n",
    "***\n",
    "\n",
    "#### Unicode characters\n",
    "You can include nonstandard characters by their unicode values such as `&#9635;` which gives the character &#9635;\n"
   ]
  },
  {
   "cell_type": "markdown",
   "metadata": {},
   "source": [
    "#### Links\n",
    "\n",
    "There a couple of ways of providing clickable links. You can use footnotes in the markdown to link to external webpages. For example:\n",
    "\n",
    "I get 10 times more traffic from [Google][1] than from\n",
    "[Yahoo][2] or [MSN][3].\n",
    "\n",
    "[1]: http://google.com/        \"Google\"\n",
    "[2]: http://search.yahoo.com/  \"Yahoo Search\"\n",
    "[3]: http://search.msn.com/    \"MSN Search\"\n",
    "\n",
    "I start my morning with a cup of coffee and\n",
    "[The New York Times][NY Times].\n",
    "\n",
    "[ny times]: http://www.nytimes.com/\n",
    "\n",
    "Or you can create a jump to any section of the same notebook by wrapping the text you want to link to in `<a name=\"abcd\">some text</a>` and then link to it with `[the link](#abcd)`\n",
    "\n",
    "This link takes you back to [the top of this page.](#Title-1)"
   ]
  },
  {
   "cell_type": "markdown",
   "metadata": {},
   "source": [
    "#### Tables\n",
    "Markdown tables are easy by using `|` in between the cells.\n",
    "\n",
    "| How | To | Make | a table|\n",
    "| :---: | :---: | :---: | :---: |\n",
    "| in   | <span style= 'background:yellow'> Jupyter </span>| <span style= 'background:yellow'> Notebook </span>| <span style= 'background:yellow'> Markdown </span> |\n",
    "| It | is | really| cool |\n",
    "\n",
    "Because Markdown is a superset of HTML you can even add things like HTML tables:\n",
    "\n",
    "<table>\n",
    "<tr>\n",
    "<th>Header 1</th>\n",
    "<th style= 'background:yellow'>Header 2</th>\n",
    "</tr>\n",
    "<tr>\n",
    "<td>row 1, cell 1</td>\n",
    "<td>row 1, cell 2</td>\n",
    "</tr>\n",
    "<tr>\n",
    "<td>row 2, cell 1</td>\n",
    "<td>row 2, cell 2</td>\n",
    "</tr>\n",
    "</table>"
   ]
  },
  {
   "cell_type": "markdown",
   "metadata": {},
   "source": [
    "<div class=\"alert alert-block alert-info\">\n",
    "<b>Tip:</b> Use blue boxes and HTML for tips and notes. \n",
    "$$y=mx+b$$\n",
    "</div>"
   ]
  },
  {
   "cell_type": "markdown",
   "metadata": {},
   "source": [
    "<div class=\"alert alert-block alert-warning\">\n",
    "<b>Example:</b> Use yellow boxes for examples that are not \n",
    "inside code cells, or use for mathematical formulas if needed.\n",
    "$$ y=mx+b$$\n",
    "    \n",
    "Here is how formatted code looks like in this yellow box.\n",
    "```python\n",
    "print(a)\n",
    "```\n",
    "</div>"
   ]
  },
  {
   "cell_type": "markdown",
   "metadata": {},
   "source": [
    "<div class=\"alert alert-block alert-success\">\n",
    "<b>Up to you:</b> Use green boxes some specific purpose that the other boxes can't cover. For example, if you have a lot  of related content to link to, maybe you decide to use green boxes for  related links from each section of a notebook.\n",
    "$$ y=mx+b$$"
   ]
  },
  {
   "cell_type": "markdown",
   "metadata": {},
   "source": [
    "<div class=\"alert alert-block alert-danger\">\n",
    "<b>Alert!:</b> Red boxes should only be used for drawing atention to code that might cause data loss or another major issue.\n",
    "$$ y=mx+b$$\n",
    "</div>"
   ]
  },
  {
   "cell_type": "markdown",
   "metadata": {},
   "source": [
    "#### Include code in the text\n",
    "You can embed code meant for illustration instead of execution in Python by indenting the code:\n",
    "\n",
    "    def f(x):\n",
    "        \"\"\"a docstring\"\"\"\n",
    "        return x**2\n",
    "\n",
    "or other languages:\n",
    "\n",
    "    if (i=0; i<n; i++) {\n",
    "      printf(\"hello %d\\n\", i);\n",
    "      x += 4;\n",
    "    }\n",
    "    \n",
    "More creativly, you can color the code according to the language. \n",
    "    \n",
    "```python\n",
    "A = \"Python syntax highlighting\"\n",
    "print(A)\n",
    "for i in range(0,10):\n",
    "    print(A)\n",
    "```\n",
    "\n",
    "\n",
    "```C\n",
    "A = \"C syntax highlighting\";\n",
    "if (i=0; i<n; i++) {\n",
    "    printf(\"hello %d\\n\", i);\n",
    "    x += 4;\n",
    "}\n",
    "```"
   ]
  },
  {
   "cell_type": "markdown",
   "metadata": {},
   "source": [
    "#### LaTeX equations\n",
    "Courtesy of MathJax, you can include mathematical expressions both inline: \n",
    "$e^{i\\pi} + 1 = 0$  and displayed:\n",
    "\n",
    "$$e^x=\\sum_{i=0}^\\infty \\frac{1}{i!}x^i$$\n",
    "\n",
    "Inline expressions can be added by surrounding the latex code with `$`:\n",
    "\n",
    "```latex\n",
    "$e^{i\\pi} + 1 = 0$\n",
    "```\n",
    "\n",
    "Expressions on their own line are surrounded by `$$`:\n",
    "```latex\n",
    "$$e^x=\\sum_{i=0}^\\infty \\frac{1}{i!}x^i$$\n",
    "```"
   ]
  },
  {
   "cell_type": "markdown",
   "metadata": {},
   "source": [
    "## Local files"
   ]
  },
  {
   "cell_type": "markdown",
   "metadata": {},
   "source": [
    "#### Local files\n",
    "If you have local files in your Notebook directory, you can refer to these files in Markdown cells directly:\n",
    "\n",
    "    [subdirectory/]<filename>\n",
    "\n",
    "For example, in the images folder, we have the Python logo:\n",
    "\n",
    "    <img src=\"./images/python_logo.svg\" />\n",
    "\n",
    "<img src=\"./images/python_logo.svg\" />\n",
    "\n",
    "and a video with the HTML5 video tag:\n",
    "\n",
    "    <video controls src=\"./images/animation.m4v\" />\n",
    "\n",
    "<video controls src=\"./images/animation.m4v\" />\n",
    "\n",
    "These do not embed the data into the notebook file, and require that the files exist when you are viewing the notebook."
   ]
  },
  {
   "cell_type": "markdown",
   "metadata": {},
   "source": [
    "### Security of local files"
   ]
  },
  {
   "cell_type": "markdown",
   "metadata": {},
   "source": [
    "Note that this means that the Jupyter notebook server also acts as a generic file server\n",
    "for files inside the same tree as your notebooks.  Access is not granted outside the\n",
    "notebook folder so you have strict control over what files are visible, but for this\n",
    "reason it is highly recommended that you do not run the notebook server with a notebook\n",
    "directory at a high level in your filesystem (e.g. your home directory).\n",
    "\n",
    "When you run the notebook in a password-protected manner, local file access is restricted\n",
    "to authenticated users unless read-only views are active."
   ]
  }
 ],
 "metadata": {
  "anaconda-cloud": {},
  "kernelspec": {
   "display_name": "Python 3",
   "language": "python",
   "name": "python3"
  },
  "language_info": {
   "codemirror_mode": {
    "name": "ipython",
    "version": 3
   },
   "file_extension": ".py",
   "mimetype": "text/x-python",
   "name": "python",
   "nbconvert_exporter": "python",
   "pygments_lexer": "ipython3",
   "version": "3.8.5"
  }
 },
 "nbformat": 4,
 "nbformat_minor": 1
}

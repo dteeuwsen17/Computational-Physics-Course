{
 "cells": [
  {
   "cell_type": "markdown",
   "metadata": {},
   "source": [
    "#### Excercise 1\n",
    "This is a programming challenge.\n",
    "\n",
    "Add *pivoting* to the function `gauss_elim` from the lecture notes, by writing a new function called `gauss_elim_pivot`. Try it on the Excercise 2, which should give you whole numbr answers.\n",
    "\n",
    "In the code for `gauss_elim`, at a point in the code *before* dividing by `A[m:m]`, add the following steps:\n",
    "- Add a search of the column `m` for the largest value, starting at row `m+1` and working down.\n",
    "- Keep track of which row you find that maximum value.\n",
    "- Once you found the maximum value, swicth the row `m` and that row, for both `A` and `b`.\n",
    "- Proceed as normal."
   ]
  },
  {
   "cell_type": "code",
   "execution_count": 32,
   "metadata": {},
   "outputs": [],
   "source": [
    "import numpy as np\n",
    "import scipy.linalg\n",
    "import matplotlib.pyplot as plt\n",
    "%matplotlib inline"
   ]
  },
  {
   "cell_type": "code",
   "execution_count": 19,
   "metadata": {},
   "outputs": [],
   "source": [
    "def gauss_elim_pivot(A,b):\n",
    "    N = b.size\n",
    "    \n",
    "    for i in range(N):\n",
    "        pivots = [np.abs(A[j][i]) for j in range(i,N)]\n",
    "        pivotMax = np.argmax(pivots) + i\n",
    "        \n",
    "        A[[i],:], A[[pivotMax],:] = A[[pivotMax],:], A[[i],:]\n",
    "        b[i], b[pivotMax] = b[pivotMax], b[i]\n",
    "    \n",
    "    for m in range(N):\n",
    "        div = A[m,m]\n",
    "        A[m,:] /= div\n",
    "        b[m] /= div\n",
    "        for i in range(m+1,N):\n",
    "            mult = A[i,m]\n",
    "            A[i,:] -= mult*A[m,:]\n",
    "            b[i] -= mult*b[m]\n",
    "   \n",
    "    x = np.zeros(N,float)\n",
    "    \n",
    "    for m in range(N-1,-1,-1): \n",
    "        x[m] = b[m]\n",
    "        for i in range(m+1,N):\n",
    "            x[m] -= A[m,i]*x[i]\n",
    "            \n",
    "    return x"
   ]
  },
  {
   "cell_type": "markdown",
   "metadata": {},
   "source": [
    "#### Excercise 2\n",
    "\n",
    "Use your Gaussian elimination program with pivoting to solve the system of linear equations:\n",
    "$$\n",
    "\\begin{array}{rrrrrrrrc} \n",
    "2w & + &  x & + & 4y & + &  z & = & -4\\\\\n",
    "3w & + & 4x & - &  y & - &  z & = &  3\\\\\n",
    "1w & - & 4x & + &  y & + & 5z & = &  9 \\\\\n",
    "2w & - & 2x & + &  y & + & 3z & = &  7 \\\\\n",
    "\\end{array}\n",
    "$$\n",
    "You should get whole numbers for $\\vec{x}$.\n",
    "\n",
    "Try again, with the very first term being $0w$. (You won't get whole number answers, but you should also not get any errors this time.)"
   ]
  },
  {
   "cell_type": "code",
   "execution_count": 26,
   "metadata": {},
   "outputs": [
    {
     "name": "stdout",
     "output_type": "stream",
     "text": [
      "the vector is: [ 2. -1. -2.  1.]^T\n",
      "\n",
      "\n",
      "the vector is: [ 1.61904762 -0.42857143 -1.23809524  1.38095238]^T\n"
     ]
    }
   ],
   "source": [
    "A = np.array([   [ 2,  1,  4,  1 ],\n",
    "                 [ 3,  4, -1, -1 ],\n",
    "                 [ 1, -4,  1,  5 ],\n",
    "                 [ 2, -2,  1,  3 ]   ], dtype=float)\n",
    "\n",
    "b = np.array([ -4, 3, 9, 7 ],dtype=float)\n",
    "\n",
    "print('the vector is: ' + str(gauss_elim_pivot(A,b)) +'^T')\n",
    "print('\\n')\n",
    "\n",
    "A = np.array([   [ 0,  1,  4,  1 ],\n",
    "                 [ 3,  4, -1, -1 ],\n",
    "                 [ 1, -4,  1,  5 ],\n",
    "                 [ 2, -2,  1,  3 ]   ], dtype=float)\n",
    "\n",
    "b = np.array([ -4, 3, 9, 7 ],dtype=float)\n",
    "\n",
    "print('the vector is: ' + str(gauss_elim_pivot(A,b)) +'^T')"
   ]
  },
  {
   "cell_type": "markdown",
   "metadata": {},
   "source": [
    "#### Excercise 3\n",
    "\n",
    "Consider the following  circuit of resistors.\n",
    "\n",
    "<img src=\"resistor.png\" width=200/>\n",
    "\n",
    "Al the resistors have the same resistance $R$. The voltage at the top is $V_{+}=5$ V.What are the other voltages $V_1$ to $V_4$?\n",
    "\n",
    "To answer that question we use Ohm's law ($V=IR$) and the Kirchoff current law, which says that the total overall current flow into (or out of) any junction must be zero. If the voltage across the resistor connecting $V_1$ and $V_2$ is $V_1-V_2$, then the current flowing though it is $(V_1-V_2)/R$. That current is flowing though $V_1$, but that is not all of it. We see that:\n",
    "$$\n",
    "\\frac{V_1-V_2}{R}+\\frac{V_1-V_3}{R}+\\frac{V_1-V_4}{R}+\\frac{V_1-V_+}{R}=0\n",
    "$$\n",
    "\n",
    "* In the next notebook cell, write out in $\\LaTeX$ all the equations for the four junctions with unknown voltages. Simplify them, then write them in linear and matrix form \n",
    "\n",
    "* Write a program to solve the four resulting linear equations for the voltages, using `gauss_elim_pivot`.\n",
    "\n",
    "* Verify your result with `scipy.linalg.solve`.\n",
    "\n",
    "You will re-use this matrix in the next several excercises below."
   ]
  },
  {
   "cell_type": "markdown",
   "metadata": {},
   "source": [
    "<font color=\"blue\"> **ANSWER:**</font>"
   ]
  },
  {
   "cell_type": "markdown",
   "metadata": {},
   "source": [
    "$ \\textbf{1. }\\frac{V_1-V_2}{R}+\\frac{V_1-V_3}{R}+\\frac{V_1-V_4}{R}+\\frac{V_1-V_+}{R}=0 \\;\\, \\Rightarrow \\; 4\\cdot V_1-V_2-V_3-V_4 = 5 $\n",
    "\n",
    "$ \\textbf{2. }\\frac{V_2-V_1}{R}+\\frac{V_2-V_4}{R}+\\frac{V_2-V_⏚}{R}=0 \\;\\;\\;\\;\\;\\;\\;\\;\\;\\;\\;\\;\\; \\Rightarrow \\; -V_1+3\\cdot V_2-V_4 = 0$ \n",
    "\n",
    "$ \\textbf{3. }\\frac{V_3-V_1}{R}+\\frac{V_3-V_4}{R}+\\frac{V_3-V_+}{R}=0 \\;\\;\\;\\;\\;\\;\\;\\;\\;\\;\\;\\;\\; \\Rightarrow \\; -V_1+3\\cdot V_3-V_4 = 5$\n",
    "\n",
    "$ \\textbf{4. }\\frac{V_4-V_2}{R}+\\frac{V_4-V_3}{R}+\\frac{V_4-V_1}{R}+\\frac{V_4-V_⏚}{R} = 0 \\;\\; \\Rightarrow \\; -V_1-V_2-V_3+4\\cdot V_4 = 0 $\n",
    "\n",
    "$  $\n",
    "\n",
    "$\n",
    "\\begin{bmatrix}\n",
    " 4 & -1 & -1 & -1 \\\\\n",
    "-1 &  3 &  0 & -1 \\\\\n",
    "-1 &  0 &  3 & -1  \\\\\n",
    "-1 & -1 & -1 &  4 \\\\\n",
    "\\end{bmatrix}\n",
    "\\begin{bmatrix}\n",
    "V_1 \\\\ V_2 \\\\ V_3 \\\\ V_4 \n",
    "\\end{bmatrix}\n",
    "=\n",
    "\\begin{bmatrix}\n",
    "5 \\\\ 0 \\\\ 5 \\\\ 0\n",
    "\\end{bmatrix}\n",
    "$"
   ]
  },
  {
   "cell_type": "code",
   "execution_count": 31,
   "metadata": {},
   "outputs": [
    {
     "name": "stdout",
     "output_type": "stream",
     "text": [
      "the vector is: [3.         1.66666667 3.33333333 2.        ]^T\n"
     ]
    },
    {
     "data": {
      "text/plain": [
       "array([3.        , 1.66666667, 3.33333333, 2.        ])"
      ]
     },
     "execution_count": 31,
     "metadata": {},
     "output_type": "execute_result"
    }
   ],
   "source": [
    "A = np.array([[ 4, -1, -1, -1 ],\n",
    "                 [-1,  3,  0, -1 ],\n",
    "                 [-1,  0,  3, -1 ],\n",
    "                 [-1, -1, -1,  4 ]], dtype=float)\n",
    "b = np.array([ 5, 0, 5, 0 ],dtype=float)\n",
    "\n",
    "print('the vector is: ' + str(gauss_elim_pivot(A,b)) +'^T')\n",
    "\n",
    "scipy.linalg.solve(A,b)"
   ]
  },
  {
   "cell_type": "markdown",
   "metadata": {},
   "source": [
    "#### Excercise 4\n",
    "\n",
    "**SKIP THIS QUESTION. THE ANSWER IS PROVDED FOR YOU FOR YOUR REVIEW.**\n",
    "\n",
    "**PROCEED TO THE QUESTIONS BELOW.**\n",
    "\n",
    "Use the `scipy.linalg.lu` function to decompose the same matrix $\\pmb{A}$ from the previous exercise in the matrices $\\pmb{P}$, $\\pmb{L}$, $\\pmb{U}$. \n",
    "\n",
    "* Print out $\\pmb{P}$ to see if pivoting was required, then print $\\pmb{L}$ to see whether it is a lower-triangular matrix with ones on the diagonal, and finally print out $\\pmb{U}$ to see if it is an upper triangle matrix, .\n",
    "\n",
    "* Write a loop for backsubstitution (see `gauss_elim`) to solve for the voltages, keeping in mind that the diagonal of $\\pmb{U}$ are not ones.\n",
    "\n",
    "$$\\pmb{A}\\vec{x}=\\left[\\pmb{L}\\pmb{U}\\right]\\vec{x}=\\vec{b}$$\n",
    "First, solve $\\pmb{L}\\vec{y}=\\pmb{P}\\vec{b}$ for $\\vec{y}$ by forward substitution, then solve $\\pmb{U}\\vec{x}=\\vec{y}$ for $\\vec{x}$ by back substitution."
   ]
  },
  {
   "cell_type": "code",
   "execution_count": 4,
   "metadata": {},
   "outputs": [
    {
     "name": "stdout",
     "output_type": "stream",
     "text": [
      "A:\n",
      "[[ 4. -1. -1. -1.]\n",
      " [-1.  3.  0. -1.]\n",
      " [-1.  0.  3. -1.]\n",
      " [-1. -1. -1.  4.]]\n",
      "P:\n",
      "[[1. 0. 0. 0.]\n",
      " [0. 1. 0. 0.]\n",
      " [0. 0. 1. 0.]\n",
      " [0. 0. 0. 1.]]\n",
      "No permutations needed.\n",
      "L:\n",
      "[[ 1.          0.          0.          0.        ]\n",
      " [-0.25        1.          0.          0.        ]\n",
      " [-0.25       -0.09090909  1.          0.        ]\n",
      " [-0.25       -0.45454545 -0.5         1.        ]]\n",
      "U:\n",
      "[[ 4.         -1.         -1.         -1.        ]\n",
      " [ 0.          2.75       -0.25       -1.25      ]\n",
      " [ 0.          0.          2.72727273 -1.36363636]\n",
      " [ 0.          0.          0.          2.5       ]]\n",
      "Voltages : [3.         1.66666667 3.33333333 2.        ]\n"
     ]
    }
   ],
   "source": [
    "A = np.array([[ 4, -1, -1, -1 ],\n",
    "                 [-1,  3,  0, -1 ],\n",
    "                 [-1,  0,  3, -1 ],\n",
    "                 [-1, -1, -1,  4 ]], dtype=float)\n",
    "b = np.array([ 5, 0, 5, 0 ],dtype=float)\n",
    "\n",
    "P,L,U = scipy.linalg.lu(A)\n",
    "print (\"A:\")\n",
    "print (A)\n",
    "print (\"P:\")\n",
    "print (P)\n",
    "print (\"No permutations needed.\")\n",
    "print (\"L:\")\n",
    "print (L)\n",
    "print (\"U:\")\n",
    "print (U)\n",
    "\n",
    "N = b.size\n",
    "# SOLVING : Av=b\n",
    "# WITH A=LU\n",
    "\n",
    "\n",
    "# FIRST STEP: \n",
    "# Ly=b\n",
    "# Solve for y\n",
    "# \n",
    "# L is lower triangular, with ones on the diagonal.\n",
    "# So start at the top and reverse the back substitution loop.\n",
    "y = np.empty(N,float) \n",
    "for m in range(0,N,1):\n",
    "    y[m] = b[m]\n",
    "    for i in range(m-1,-1,-1):\n",
    "        y[m] -= L[m,i]*y[i]\n",
    "# --- END FORWARD SUBSTITUTION LOOP\n",
    "\n",
    "# SECOND STEP:\n",
    "# Uv=y\n",
    "# Solve for v\n",
    "#\n",
    "# U is upper triangular, with anything on the diagonal.\n",
    "# So this is just algebra, dividing by the diagonal on the last step\n",
    "v = np.empty(N,float) \n",
    "for m in range(N-1,-1,-1):\n",
    "    v[m]=y[m]\n",
    "    for i in range(m+1,N):\n",
    "        v[m]-=U[m,i]*v[i]\n",
    "    v[m]/=U[m,m]\n",
    "# --- END BACKWARD SUBSTITUTION LOOP\n",
    "\n",
    "print(\"Voltages :\", v)"
   ]
  },
  {
   "cell_type": "markdown",
   "metadata": {},
   "source": [
    "#### Excercise 5\n",
    "\n",
    "\n",
    "#### Model of phonons in a solid\n",
    "\n",
    "Let's explore what happens to the mass-spring model system when the frequency of driving force changes. Copy over the code from the lecture example and calculate the vibration amplitudes at $\\omega=2.0$ and then at $\\omega=1.0$.\n",
    "\n",
    "- Plot the displacment amplitudes on the same plot.\n",
    "- What changes do you see?"
   ]
  },
  {
   "cell_type": "code",
   "execution_count": 48,
   "metadata": {},
   "outputs": [
    {
     "name": "stdout",
     "output_type": "stream",
     "text": [
      "A:\n",
      "[[ 2. -6.  0. ...  0.  0.  0.]\n",
      " [-6.  8. -6. ...  0.  0.  0.]\n",
      " [ 0. -6.  8. ...  0.  0.  0.]\n",
      " ...\n",
      " [ 0.  0.  0. ...  8. -6.  0.]\n",
      " [ 0.  0.  0. ... -6.  8. -6.]\n",
      " [ 0.  0.  0. ...  0. -6.  2.]]\n",
      "b:\n",
      "[0.1 0.  0.  0.  0.  0.  0.  0.  0.  0.  0.  0.  0.  0.  0.  0.  0.  0.\n",
      " 0.  0.  0.  0.  0.  0.  0.  0.  0.  0.  0.  0.  0.  0.  0.  0.  0.  0.\n",
      " 0.  0.  0.  0.  0.  0.  0.  0.  0.  0.  0.  0.  0.  0. ]\n",
      "A:\n",
      "[[ 1.         -1.83333333  1.         ... -0.         -0.\n",
      "  -0.        ]\n",
      " [ 0.          1.         -1.57894737 ...  0.          0.\n",
      "   0.        ]\n",
      " [ 0.          0.          1.         ...  0.          0.\n",
      "   0.        ]\n",
      " ...\n",
      " [ 0.          0.          0.         ...  1.         -1.68401676\n",
      "   0.        ]\n",
      " [ 0.          0.          0.         ...  0.          1.\n",
      "  -6.69718029]\n",
      " [-0.         -0.         -0.         ... -0.         -0.\n",
      "   1.        ]]\n",
      "b:\n",
      "[-0.          0.03157895  0.12413793 -0.05917808 -0.02561771 -0.0182926\n",
      " -0.01634329 -0.0173884  -0.02260036 -0.04235485  1.03949838  0.03941086\n",
      "  0.02195078  0.01719794  0.01638124  0.01859769  0.02664313  0.06648664\n",
      " -0.10041506 -0.03003168 -0.01957408 -0.01656641 -0.01678479 -0.02046549\n",
      " -0.03332894 -0.16274699  0.05336456  0.02469173  0.01801482  0.01632155\n",
      "  0.01760066  0.02331324  0.04582299 -0.34661332 -0.03688352 -0.02135795\n",
      " -0.01702821 -0.01643561 -0.01893211 -0.02778258 -0.07594017  0.08437421\n",
      "  0.02865587  0.01918443  0.01648349  0.01692139  0.02097432  0.03532111\n",
      "  0.23655183 -0.04034072]\n"
     ]
    },
    {
     "data": {
      "image/png": "[encoded data removed]",
      "text/plain": [
       "<Figure size 648x432 with 1 Axes>"
      ]
     },
     "metadata": {
      "needs_background": "light"
     },
     "output_type": "display_data"
    }
   ],
   "source": [
    "N = 50\n",
    "m = 1.0\n",
    "k = 6.0\n",
    "C= 0.1\n",
    "omega = 2.0\n",
    "alpha = 2*k-m*omega*omega\n",
    "\n",
    "A = np.zeros((N,N),dtype=float)\n",
    "for i in range(N-1):\n",
    "    A[i,i] = alpha\n",
    "    A[i,i+1] = -k\n",
    "    A[i+1,i] = -k\n",
    "\n",
    "A[0,0] = alpha-k\n",
    "A[N-1,N-1] = alpha-k\n",
    "\n",
    "b=np.zeros(N,dtype=float)\n",
    "b[0] = C\n",
    "\n",
    "x1 = scipy.linalg.solve(A,b)\n",
    "\n",
    "print(f\"A:\\n{A}\")\n",
    "print(f\"b:\\n{b}\")\n",
    "\n",
    "omega = 1.0\n",
    "alpha = 2*k-m*omega*omega\n",
    "\n",
    "A = np.zeros((N,N),dtype=float)\n",
    "for i in range(N-1):\n",
    "    A[i,i] = alpha\n",
    "    A[i,i+1] = -k\n",
    "    A[i+1,i] = -k\n",
    "\n",
    "A[0,0] = alpha-k\n",
    "A[N-1,N-1] = alpha-k\n",
    "\n",
    "b=np.zeros(N,dtype=float)\n",
    "b[0] = C\n",
    "\n",
    "x2 = scipy.linalg.solve(A,b)\n",
    "x3 = gauss_elim_pivot(A,b)\n",
    "#print(x2)\n",
    "#print(x3)\n",
    "\n",
    "print(f\"A:\\n{A}\")\n",
    "print(f\"b:\\n{b}\")\n",
    "\n",
    "plt.figure(figsize=(9,6))\n",
    "plt.plot(x1,\"b.-\", markersize=5)\n",
    "plt.plot(x2,\"r.-\", markersize=10)\n",
    "plt.xlabel(\"Mass number\", fontsize=14)\n",
    "plt.ylabel(\"Motion amplitude\", fontsize=14)\n",
    "plt.show()\n",
    "plt.close()"
   ]
  },
  {
   "cell_type": "markdown",
   "metadata": {},
   "source": [
    "The amplitude doubles and there are half as many waves when omega changes from 2.0 to 1.0."
   ]
  },
  {
   "cell_type": "markdown",
   "metadata": {},
   "source": [
    "<font color=\"blue\"> **ANSWER:**</font>"
   ]
  },
  {
   "cell_type": "markdown",
   "metadata": {},
   "source": [
    "#### Excercise 6\n",
    "\n",
    "Use `scipy.linalg.solve_banded` to solve the mass spring problem again. You will have to study how the array used for this function *along each row only stores each diagonal band*. Since there are three bands, the array `ab` will need to be $(3,N)$.\n",
    "\n",
    "- Print the banded-matrix array `ab`, and compare with the lecture example.\n",
    "- Plot the displacement amplitudes, and compare with the previous result from above."
   ]
  },
  {
   "cell_type": "code",
   "execution_count": 46,
   "metadata": {},
   "outputs": [
    {
     "name": "stdout",
     "output_type": "stream",
     "text": [
      "ab:\n",
      "[[-6. -6. -6. -6. -6. -6. -6. -6. -6. -6. -6. -6. -6. -6. -6. -6. -6. -6.\n",
      "  -6. -6. -6. -6. -6. -6. -6. -6. -6. -6. -6. -6. -6. -6. -6. -6. -6. -6.\n",
      "  -6. -6. -6. -6. -6. -6. -6. -6. -6. -6. -6. -6. -6. -6.]\n",
      " [ 2.  8.  8.  8.  8.  8.  8.  8.  8.  8.  8.  8.  8.  8.  8.  8.  8.  8.\n",
      "   8.  8.  8.  8.  8.  8.  8.  8.  8.  8.  8.  8.  8.  8.  8.  8.  8.  8.\n",
      "   8.  8.  8.  8.  8.  8.  8.  8.  8.  8.  8.  8.  8.  2.]\n",
      " [-6. -6. -6. -6. -6. -6. -6. -6. -6. -6. -6. -6. -6. -6. -6. -6. -6. -6.\n",
      "  -6. -6. -6. -6. -6. -6. -6. -6. -6. -6. -6. -6. -6. -6. -6. -6. -6. -6.\n",
      "  -6. -6. -6. -6. -6. -6. -6. -6. -6. -6. -6. -6. -6. -6.]]\n",
      "b:\n",
      "[0.1 0.  0.  0.  0.  0.  0.  0.  0.  0.  0.  0.  0.  0.  0.  0.  0.  0.\n",
      " 0.  0.  0.  0.  0.  0.  0.  0.  0.  0.  0.  0.  0.  0.  0.  0.  0.  0.\n",
      " 0.  0.  0.  0.  0.  0.  0.  0.  0.  0.  0.  0.  0.  0. ]\n"
     ]
    },
    {
     "data": {
      "image/png": "[encoded data removed]",
      "text/plain": [
       "<Figure size 648x432 with 1 Axes>"
      ]
     },
     "metadata": {
      "needs_background": "light"
     },
     "output_type": "display_data"
    }
   ],
   "source": [
    "###Part 1\n",
    "\n",
    "N = 50\n",
    "m = 1.0\n",
    "k = 6.0\n",
    "C= 0.1\n",
    "omega = 2.0\n",
    "alpha = 2*k-m*omega*omega\n",
    "\n",
    "ab = np.zeros((3,N),dtype=float)\n",
    "ab[0,:] = -k\n",
    "ab[1,:] = alpha\n",
    "ab[1,0] = alpha-k\n",
    "ab[1,N-1] = alpha-k\n",
    "ab[2,:] = -k\n",
    "\n",
    "b=np.zeros(N,dtype=float)\n",
    "b[0] = C\n",
    "\n",
    "vect1 = scipy.linalg.solve_banded( (1,1), ab, b)\n",
    "\n",
    "print(f\"ab:\\n{ab}\")\n",
    "print(f\"b:\\n{b}\")\n",
    "\n",
    "\n",
    "###Part 2\n",
    "\n",
    "omega = 1.0\n",
    "alpha = 2*k-m*omega*omega\n",
    "\n",
    "ab = np.zeros((3,N),dtype=float)\n",
    "ab[0,:] = -k\n",
    "ab[1,:] = alpha\n",
    "ab[1,0] = alpha-k\n",
    "ab[1,N-1] = alpha-k\n",
    "ab[2,:] = -k\n",
    "\n",
    "vect2 = scipy.linalg.solve_banded( (1,1), ab, b)\n",
    "\n",
    "plt.figure(figsize=(9,6))\n",
    "plt.plot(vect1,\"b.-\", markersize=5)\n",
    "plt.plot(vect2,\"r.-\", markersize=10)\n",
    "plt.xlabel(\"Mass number\", fontsize=14)\n",
    "plt.ylabel(\"Motion amplitude\", fontsize=14)\n",
    "plt.show()\n",
    "plt.close()"
   ]
  },
  {
   "cell_type": "markdown",
   "metadata": {},
   "source": [
    "<font color=\"blue\">**ANSWER:**</font>"
   ]
  },
  {
   "cell_type": "markdown",
   "metadata": {},
   "source": [
    "The matrix now only shows the three diagonals 3 x 50 rather than 50 x 50 with zeros and ' ... ' In part 2 the graph is identical to the graph of the previous question as expected/desired since we solved the same problem (albeit slightly more efficiently)."
   ]
  }
 ],
 "metadata": {
  "kernelspec": {
   "display_name": "Python 3",
   "language": "python",
   "name": "python3"
  },
  "language_info": {
   "codemirror_mode": {
    "name": "ipython",
    "version": 3
   },
   "file_extension": ".py",
   "mimetype": "text/x-python",
   "name": "python",
   "nbconvert_exporter": "python",
   "pygments_lexer": "ipython3",
   "version": "3.8.5"
  }
 },
 "nbformat": 4,
 "nbformat_minor": 2
}

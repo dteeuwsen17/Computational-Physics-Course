{
 "cells": [
  {
   "cell_type": "markdown",
   "metadata": {},
   "source": [
    "# Introduction to Python in Jupyter -Daniel Teeuwsen"
   ]
  },
  {
   "cell_type": "markdown",
   "metadata": {},
   "source": [
    "## Starter python"
   ]
  },
  {
   "cell_type": "markdown",
   "metadata": {},
   "source": [
    "#### Excercise 1\n",
    "In the next cell, write the following program and run it:\n",
    "\n",
    "```python\n",
    "name = input('Please input your name --> ')\n",
    "print(\"Hello \"+ name)\n",
    "```"
   ]
  },
  {
   "cell_type": "code",
   "execution_count": 1,
   "metadata": {},
   "outputs": [
    {
     "name": "stdout",
     "output_type": "stream",
     "text": [
      "Please input your name -->Daniel\n",
      "Hello Daniel\n"
     ]
    }
   ],
   "source": [
    "name = input( 'Please input your name --> ')\n",
    "print( \"Hello \" + name)"
   ]
  },
  {
   "cell_type": "markdown",
   "metadata": {},
   "source": [
    "#### Excercise 2 \n",
    "\n",
    "Use [WolframAlpha][1] to calculate the cosine of 22°. Then run the following Python code\n",
    "\n",
    "```python\n",
    "import math\n",
    "x = cos(22)\n",
    "print(x)\n",
    "```\n",
    "\n",
    "Do the two results agree? If not, why not? What would you do to fix it?\n",
    "\n",
    "What does WolframAlpha do that Python doesn't in this case?\n",
    "\n",
    "[1]:https://www.wolframalpha.com/"
   ]
  },
  {
   "cell_type": "markdown",
   "metadata": {},
   "source": [
    "The two results do not agree since one is in radians and the other in degrees. I would make sure to inform the user that their input must be in radians.The text below explains the answer well; WolframAlpha outputs in terms of degrees or radians \n",
    "depending on the input. Example: outputs cos(35) in degrees and cos(Pi/10) in radians"
   ]
  },
  {
   "cell_type": "code",
   "execution_count": 6,
   "metadata": {},
   "outputs": [
    {
     "name": "stdout",
     "output_type": "stream",
     "text": [
      "-0.9999608263946371\n"
     ]
    }
   ],
   "source": [
    "import math\n",
    "x = math.cos(22) \n",
    "print(x) "
   ]
  },
  {
   "cell_type": "markdown",
   "metadata": {},
   "source": [
    "<div class=\"alert alert-block alert-info\">\n",
    "    <b>Tip:</b> To type your answer in the next cell, double-click it. Don't foget to <tt>Shift-Enter</tt> to complete the cell.\n",
    "</div>"
   ]
  },
  {
   "cell_type": "markdown",
   "metadata": {},
   "source": [
    "**Type answer here:**\n",
    "The two methods do *not* agree. Clearly the python function for math expects the angle to be in radians. This would have been correct:\n",
    "```python\n",
    "x = math.cos(22*pi()/180.)\n",
    "```\n",
    "In fact, WolframAlpha explcitly states that it decided to *assume* that the 22 was in degrees. WolframAlpha has some machine intelligence behind it, whereas as python programmers we must make certian that we are providing correctly formatted input to its functions."
   ]
  },
  {
   "cell_type": "markdown",
   "metadata": {},
   "source": [
    "#### Excercise 3\n",
    "\n",
    "Consider the following python code:\n",
    "```python\n",
    "import sys\n",
    "print(sys.version_info)\n",
    "```\n",
    "\n",
    "Using the above example, and the reference for the [**sys** package][sys], answer these questions;\n",
    " - where is the executable of Pyhton located on your system?\n",
    " - show the copyright notice for python.\n",
    " - what is the largest floating point number that can be represented in Python?\n",
    "    \n",
    "[sys]: https://docs.python.org/3.6/library/sys.html"
   ]
  },
  {
   "cell_type": "code",
   "execution_count": 10,
   "metadata": {},
   "outputs": [
    {
     "name": "stdout",
     "output_type": "stream",
     "text": [
      "sys.version_info(major=3, minor=8, micro=5, releaselevel='final', serial=0)\n"
     ]
    },
    {
     "data": {
      "text/plain": [
       "1.7976931348623157e+308"
      ]
     },
     "execution_count": 10,
     "metadata": {},
     "output_type": "execute_result"
    }
   ],
   "source": [
    "import sys\n",
    "print(sys.version_info)\n",
    "sys.executable# located at:  D:\\\\pyThonAnacondaStuff\\\\python.exe\n",
    "sys.copyright #run code to see\n",
    "sys.float_info.max # 1.7976931348623157*10^308"
   ]
  },
  {
   "cell_type": "markdown",
   "metadata": {},
   "source": [
    "#### Excercise 3\n",
    "\n",
    "Check and see if the essential packages are present in your system. Determine their current version nnumbers.\n",
    "\n",
    " - NumPy\n",
    " - SciPy\n",
    " - matplotlib"
   ]
  },
  {
   "cell_type": "code",
   "execution_count": 1,
   "metadata": {},
   "outputs": [
    {
     "name": "stdout",
     "output_type": "stream",
     "text": [
      "1.19.2\n"
     ]
    },
    {
     "data": {
      "text/plain": [
       "'1.19.2'"
      ]
     },
     "execution_count": 1,
     "metadata": {},
     "output_type": "execute_result"
    }
   ],
   "source": [
    "import numpy\n",
    "import pkg_resources\n",
    "pkg_resources.get_distribution('numpy').version"
   ]
  },
  {
   "cell_type": "code",
   "execution_count": 36,
   "metadata": {},
   "outputs": [
    {
     "data": {
      "text/plain": [
       "'1.5.2'"
      ]
     },
     "execution_count": 36,
     "metadata": {},
     "output_type": "execute_result"
    }
   ],
   "source": [
    "import scipy\n",
    "pkg_resources.get_distribution('scipy').version"
   ]
  },
  {
   "cell_type": "code",
   "execution_count": 37,
   "metadata": {},
   "outputs": [
    {
     "data": {
      "text/plain": [
       "'3.3.2'"
      ]
     },
     "execution_count": 37,
     "metadata": {},
     "output_type": "execute_result"
    }
   ],
   "source": [
    "import matplotlib\n",
    "pkg_resources.get_distribution('matplotlib').version"
   ]
  },
  {
   "cell_type": "markdown",
   "metadata": {},
   "source": [
    "## Jupyter notebooks\n",
    "\n",
    "As you can tell, we will be using Jupyter notebooks to exchange ideas and do our work. You can find some examples and help with aspects of notebooks [at this link][1], and in the Resrouces tool of Sakai.\n",
    "\n",
    "[1]:http://nbviewer.jupyter.org/github/jupyter/notebook/tree/master/docs/source/examples/Notebook/"
   ]
  },
  {
   "cell_type": "markdown",
   "metadata": {},
   "source": [
    "<div class=\"alert alert-block alert-info\">\n",
    "    <b>Tip:</b> Don't forget to change the <it>type</it> of cell from <tt>Code</tt> to <tt>Markdown</tt>.\n",
    "</div>"
   ]
  },
  {
   "cell_type": "markdown",
   "metadata": {},
   "source": [
    "#### Excercise 4\n",
    "Using the example notebooks, typeset Maxwell's equations in differential form in the next cell with LateX notation."
   ]
  },
  {
   "cell_type": "markdown",
   "metadata": {},
   "source": [
    "$\\textbf{Maxwell's equations:}$\n",
    "\n",
    "$ \\nabla\\cdot\\textbf{E}=\\large\\frac{\\rho}{\\epsilon_{0}}$\n",
    "\n",
    "$\\nabla\\cdot\\textbf{B}=0$\n",
    "\n",
    "$\\nabla\\times\\textbf{E}=-\\large\\frac{\\partial\\textbf{B}}{\\partial\\textit{t}}$\n",
    "\n",
    "$\\nabla\\times\\textbf{B}=\\mu_{0}\\left(\\textbf{J}+\\epsilon_{0}\\large\\frac{\\partial\\textbf{E}}{\\partial\\textit{t}}\\right)$\n"
   ]
  },
  {
   "cell_type": "markdown",
   "metadata": {},
   "source": [
    "#### Excercise 1\n",
    "\n",
    "Create a 1D NumPy array of integer numbers from 0 to 9 ([`numpy.arange`][arange]), and printit out all at once with :\n",
    "```python\n",
    "print(my_array)\n",
    "```\n",
    "\n",
    "[arange]: https://docs.scipy.org/doc/numpy/reference/generated/numpy.arange.html"
   ]
  },
  {
   "cell_type": "code",
   "execution_count": 3,
   "metadata": {
    "scrolled": true
   },
   "outputs": [
    {
     "name": "stdout",
     "output_type": "stream",
     "text": [
      "[0 1 2 3 4 5 6 7 8 9]\n"
     ]
    }
   ],
   "source": [
    "import numpy as np\n",
    "my_array=np.arange(10)\n",
    "print(my_array)"
   ]
  },
  {
   "cell_type": "code",
   "execution_count": null,
   "metadata": {},
   "outputs": [],
   "source": []
  }
 ],
 "metadata": {
  "kernelspec": {
   "display_name": "Python 3",
   "language": "python",
   "name": "python3"
  },
  "language_info": {
   "codemirror_mode": {
    "name": "ipython",
    "version": 3
   },
   "file_extension": ".py",
   "mimetype": "text/x-python",
   "name": "python",
   "nbconvert_exporter": "python",
   "pygments_lexer": "ipython3",
   "version": "3.7.7"
  }
 },
 "nbformat": 4,
 "nbformat_minor": 2
}

{
 "cells": [
  {
   "cell_type": "markdown",
   "metadata": {},
   "source": [
    "# Homework 11 - Nonlinear equations Daniel Teeuwsen\n",
    "\n",
    "#### Excercise 1\n",
    "\n",
    "Write a function called `bisection_method` that takes as arguments\n",
    "-  a function to find the root of,\n",
    "-  the guesses $a,b$, and\n",
    "-  a tolerance limit with a default value of `1E-6`.\n",
    "\n",
    "The function should return the root and the uncertainty of the root as $|a-b|$.\n",
    "\n",
    "Use that function to solve find the roots of the quadratic equation\n",
    "$$x^2-3x+2=0$$ "
   ]
  },
  {
   "cell_type": "code",
   "execution_count": 1,
   "metadata": {},
   "outputs": [],
   "source": [
    "%matplotlib inline\n",
    "import numpy as np\n",
    "import scipy.misc\n",
    "import scipy.optimize\n",
    "import matplotlib.pyplot as plt"
   ]
  },
  {
   "cell_type": "code",
   "execution_count": 213,
   "metadata": {},
   "outputs": [
    {
     "name": "stdout",
     "output_type": "stream",
     "text": [
      "First root:              Uncertainty:\n",
      "(0.9999993324279786, 8.583068846768072e-07)\n",
      "\n",
      "\n",
      "Second root:             Uncertainty:\n",
      "(2.000000476837158, 6.675720214399661e-07)\n"
     ]
    },
    {
     "data": {
      "image/png": "[encoded data removed]",
      "text/plain": [
       "<Figure size 432x288 with 1 Axes>"
      ]
     },
     "metadata": {
      "needs_background": "light"
     },
     "output_type": "display_data"
    }
   ],
   "source": [
    "def bisection_method(f,a,b,tol=1E-6):\n",
    "    \n",
    "    if f(a)==0:\n",
    "        return a, 0\n",
    "    elif f(b)==0:\n",
    "        return b, 0\n",
    "    elif f(a)*f(b)>0: #if a and b have same sign\n",
    "        return \n",
    "    \n",
    "    epsilon = np.abs(a-b)\n",
    "\n",
    "    while epsilon > tol:\n",
    "        x = (a+b)/2\n",
    "        if f(x) == 0:\n",
    "            break\n",
    "        if f(x)*f(a)>0:   #if x and a have same sign\n",
    "            a = x\n",
    "        else:\n",
    "            b = x\n",
    "        epsilon = np.abs(a-b)\n",
    "        \n",
    "    return x , epsilon\n",
    "\n",
    "def f(x):             #function given in question\n",
    "    return x*x-3*x+2\n",
    "\n",
    "\n",
    "plt.plot(np.linspace(0,3,100),f(np.linspace(0,3,100)))\n",
    "plt.plot(np.linspace(0,3,100),np.zeros(100))\n",
    "\n",
    "print('First root:              Uncertainty:')\n",
    "print(bisection_method(f,0.6,1.5))\n",
    "print('\\n')\n",
    "print('Second root:             Uncertainty:')\n",
    "print(bisection_method(f,1.6,2.3))"
   ]
  },
  {
   "cell_type": "markdown",
   "metadata": {},
   "source": [
    "#### Excercise 2\n",
    "\n",
    "Plank's radiation law says that the intensity of radiation per unit area and per unit wavelength $\\lambda$ from a black body at temperature $T$ is \n",
    "$$I(\\lambda) = \\frac{2\\pi hc^2\\lambda^{-5}}{e^{hc/\\lambda k_BT}-1}$$\n",
    "\n",
    "By differentiation we can show that the wavelength at which emitted radiation is maximum is the solution to the equation\n",
    "$$5e^{hc/\\lambda k_BT}+\\frac{hc}{\\lambda k_BT}-5=0$$\n",
    "\n",
    "When you substitute $x=hc/\\lambda k_BT$, then the wavelength of maximum  radiation is given by Wein's displacment law\n",
    "$$\\lambda=\\frac{b}{T}$$\n",
    "where $b=hc/\\lambda k_Bx$.\n",
    "\n",
    "- Use [`scipy.optimize.bisect`][1] and solve the equtation for $x$, then using that value, find the temperature of the sun, whose maximum in intensity is at $\\lambda=502$ nm\n",
    "\n",
    "- Write **your own** Newton's method to solve the equtation for $x$, then using that value, find the temperature of the sun, whose maximum in intensity is at $\\lambda=502$ nm. (**Bonus 2 points.** Your starting guess should be more than 1.69. Why?)\n",
    "\n",
    "\n",
    "[1]: https://docs.scipy.org/doc/scipy/reference/generated/scipy.optimize.bisect.html"
   ]
  },
  {
   "cell_type": "code",
   "execution_count": 214,
   "metadata": {},
   "outputs": [
    {
     "name": "stdout",
     "output_type": "stream",
     "text": [
      "x = 4.965114231743428\n",
      "Temperature of the sun: 5772.454093995354\n",
      "5772.454093625498\n"
     ]
    },
    {
     "data": {
      "image/png": "[encoded data removed]",
      "text/plain": [
       "<Figure size 432x288 with 1 Axes>"
      ]
     },
     "metadata": {
      "needs_background": "light"
     },
     "output_type": "display_data"
    }
   ],
   "source": [
    "def f(x):\n",
    "    return 5*np.exp(-x)+x-5\n",
    "\n",
    "def fp(x):\n",
    "    return -5*np.exp(-x)+1\n",
    "\n",
    "plt.plot(np.linspace(-2,8,51),f(np.linspace(-2,8,51)))          #Plot function and x axis\n",
    "plt.plot(np.linspace(-2,8,51),np.zeros(51),color='black')\n",
    "plt.plot(1.609,-2.391,'ro')                                     #minimum where derivative=0\n",
    "#plt.plot(np.linspace(-2,8,51),fp(np.linspace(-2,8,51)))        #fprime \n",
    "\n",
    "x1 = scipy.optimize.bisect(f,-1,1)  # root 1\n",
    "\n",
    "x = scipy.optimize.bisect(f,4,6)    # root 2 (useful one)\n",
    "print('x = '+str(x))\n",
    "\n",
    "sunLambda = 502*10**(-9) # m meters\n",
    "b = 2.897771955*10**(-3) # m*k Wien's displacement constant\n",
    "h = 6.62607015*10**(-34) # J*s\n",
    "c = 299792458            # ms^-1\n",
    "KB = 1.380649*10**(-23)  # J*k^-1\n",
    "\n",
    "# Rearranging, T = h*c / ( lambda*KB*x)\n",
    "\n",
    "print('Temperature of the sun: ' + str((h*c)/(sunLambda*KB*x)))\n",
    "#print(b/sunLambda) can be verified or by checking wiki"
   ]
  },
  {
   "cell_type": "code",
   "execution_count": 212,
   "metadata": {},
   "outputs": [
    {
     "name": "stdout",
     "output_type": "stream",
     "text": [
      "error: derivative too small\n",
      "4.965114231744276\n",
      "error: derivative too small\n",
      "\n",
      "\n",
      "Temperature of the sun: 5772.454093994367\n"
     ]
    }
   ],
   "source": [
    "def myNewton(f,fp,x0,tol=1e-7,eps=1e-14,maxIter=25):\n",
    "    \n",
    "    for i in range(maxIter):\n",
    "        y = f(x0)\n",
    "        yp = fp(x0) \n",
    "        \n",
    "        if yp < eps:\n",
    "            return 'error: derivative too small'\n",
    "            break\n",
    "            \n",
    "        xi = x0-y/yp\n",
    "        \n",
    "        if np.abs(xi-x0) < tol:\n",
    "            return xi\n",
    "            break\n",
    "        x0 = xi\n",
    "        \n",
    "print(myNewton(f,fp,0.3))  # root 1 not found\n",
    "print(myNewton(f,fp,2))    # root 2\n",
    "print(myNewton(f,fp,1.609)) \n",
    "print('\\n')\n",
    "print('Temperature of the sun: ' + str((h*c)/(sunLambda*KB*myNewton(f,fp,2))))"
   ]
  },
  {
   "cell_type": "markdown",
   "metadata": {},
   "source": [
    "<font color=\"blue\"><b>Bonus:</b> </font> This is the minimum point ie. where the derivative is 0. Any value before this point will result in dividing by approx. 0. "
   ]
  },
  {
   "cell_type": "markdown",
   "metadata": {},
   "source": [
    "#### Exercise 3\n",
    "\n",
    "Use Newton's method to take the inverse of $u=\\tanh{x}$, that is for a given $u$, calculate $\\tanh^{-1}{u}=x$. Clearly this is the root of $f(x)=\\tanh(x)-u$ where $u$ is a constant.\n",
    "\n",
    "-  Include the function $f(x)$ to evaluate\n",
    "-  Include a function for $f'(x)$ to evaluate\n",
    "-  The programming problem is how to pass the value of $u$ to these functions?\n",
    "\n",
    "Python functions can be defined such that they accept a list of arguments in addition to the variable $x$ where they are to be evaluated. For exmaple: \n",
    "```python\n",
    "def f(x, *args):\n",
    "    u = args\n",
    "    return numpy.tanh(x)-u\n",
    "     \n",
    "# -- This is the value of u we want to take the arctanh of.\n",
    "# -- args_to_pass wil be passed into both f and fp to help evaluate those funcitons.\n",
    "# -- It is a 'tuple' type container, a collection which is ordered and unchangeable, different from a list.\n",
    "args_to_pass=(0.9,) \n",
    "scipy.optimize.newton(f,0.0,fprime=fp,args=args_to_pass) \n",
    "```\n",
    "\n",
    "Verify your results with `numpy.arctanh`."
   ]
  },
  {
   "cell_type": "code",
   "execution_count": 125,
   "metadata": {},
   "outputs": [
    {
     "name": "stdout",
     "output_type": "stream",
     "text": [
      "[1.47221949]\n",
      "1.4722194895832204\n"
     ]
    }
   ],
   "source": [
    "def f(x, *args):\n",
    "    u = args\n",
    "    return np.tanh(x)-u\n",
    "\n",
    "def fp(x, *args):\n",
    "    u = args\n",
    "    return 1/(np.cosh(x))**2\n",
    "\n",
    "args_to_pass=(0.9,)\n",
    "\n",
    "print(scipy.optimize.newton(f,0.0,fprime=fp,args=args_to_pass))\n",
    "print(np.arctanh(0.9))\n"
   ]
  },
  {
   "cell_type": "markdown",
   "metadata": {},
   "source": [
    "#### Excercise 4\n",
    "\n",
    "The [Lagrangian point][LP] L1 lies on the line between the Earth and Moon, and follows in synchronicity the orbit of the Moon. The point is just at the right spot that the balance of gravity pulling in toward the Earth, and out toward the Moon, combine to provide the exact needed centripetal force to keep a satilite in orbit.\n",
    "\n",
    "Assuming circular orbits, the L1 point satifies\n",
    "$$\\frac{GM}{r^2}-\\frac{Gm}{(R-r)^2}=\\omega^2r$$\n",
    "where $G$ is the gravitational constant, $M$ is the mass of the Earth, $m$ the mass of the moon, $\\omega$ is the moon's orbital frequency, $R$ is the distance from the Earth to the moon, and $r$ the distace from the center of the Earth to the L1 point.\n",
    "\n",
    "Use Newton's method to solve for $r$ to at least four significant figures.</font>\n",
    "\n",
    "Use:\n",
    "$$\n",
    "\\begin{array}{l}\n",
    "G &=& 6.674 \\times 10^{-11}\\textrm{ m$^3$kg$^{-1}$s$^{-2}$} \\\\\n",
    "M &=& 5.974 \\times 10^{+24}\\textrm{ kg} \\\\\n",
    "m &=& 7.348 \\times 10^{+22}\\textrm{ kg} \\\\\n",
    "R &=& 3.844 \\times 10^{+8}\\textrm{ m} \\\\\n",
    "\\omega &=& 2.662 \\times 10^{-6}\\textrm{ s$^{-1}$} \n",
    "\\end{array}\n",
    "$$\n",
    "\n",
    "[LP]: https://en.wikipedia.org/wiki/Lagrangian_point"
   ]
  },
  {
   "cell_type": "code",
   "execution_count": 117,
   "metadata": {},
   "outputs": [
    {
     "name": "stdout",
     "output_type": "stream",
     "text": [
      "(326045071.66535544,       converged: True\n",
      "           flag: 'converged'\n",
      " function_calls: 30\n",
      "     iterations: 15\n",
      "           root: 326045071.66535544)\n",
      "\n",
      " Verify that the value is indeed a root by subbing in to the equation\n",
      "2.823826242281946e-14\n"
     ]
    }
   ],
   "source": [
    "G = 6.674*10**(-11)      # m^3kg^-1*s^-2\n",
    "M = 5.974*10**(24)       # kg\n",
    "m = 7.348*10**(22)       # kg \n",
    "R = 3.844*10**(8)        # m\n",
    "omega = 2.662*10**(-6)   # s^-1\n",
    "\n",
    "def f(r, *args):\n",
    "    G,M,m,R,omega = args\n",
    "    return (G*M)/(r*r) - (G*m)/(R-r)**2 - omega*omega*r\n",
    "    \n",
    "def fp(r, *args):\n",
    "    G,M,m,R,omega = args\n",
    "    return -2*G*M*r**(-3) -2*G*m*(R-r)**(-3) -omega**2\n",
    "\n",
    "args_to_pass = (G,M,m,R,omega)\n",
    "\n",
    "print(scipy.optimize.newton(f,10**7,fprime=fp,args=args_to_pass,tol=10e-12,full_output=True))\n",
    "\n",
    "print('\\n Verify that the value is indeed a root by subbing in to the equation')\n",
    "print(f(326045071.665,G,M,m,R,omega))"
   ]
  },
  {
   "cell_type": "code",
   "execution_count": null,
   "metadata": {},
   "outputs": [],
   "source": []
  }
 ],
 "metadata": {
  "kernelspec": {
   "display_name": "Python 3",
   "language": "python",
   "name": "python3"
  },
  "language_info": {
   "codemirror_mode": {
    "name": "ipython",
    "version": 3
   },
   "file_extension": ".py",
   "mimetype": "text/x-python",
   "name": "python",
   "nbconvert_exporter": "python",
   "pygments_lexer": "ipython3",
   "version": "3.8.5"
  }
 },
 "nbformat": 4,
 "nbformat_minor": 2
}

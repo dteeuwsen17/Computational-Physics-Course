{
 "cells": [
  {
   "cell_type": "markdown",
   "metadata": {},
   "source": [
    "# Homework 03 - Python-Daniel Teeuwsen"
   ]
  },
  {
   "cell_type": "code",
   "execution_count": 1,
   "metadata": {},
   "outputs": [],
   "source": [
    "import numpy as np\n",
    "from scipy.special import factorial"
   ]
  },
  {
   "cell_type": "markdown",
   "metadata": {},
   "source": [
    "#### Excercise 1\n",
    "A ball is dropped from a tower of height $h$ with initial velocity zero.  Write a program that asks the user to enter the height in meters of the tower and then calculates and prints the time the ball takes until it hits the ground, ignoring air resistance.  Use your program to calculate the time for a ball dropped from a 100 m high tower. "
   ]
  },
  {
   "cell_type": "code",
   "execution_count": 2,
   "metadata": {},
   "outputs": [
    {
     "name": "stdout",
     "output_type": "stream",
     "text": [
      "Please enter the height of the tower in meters: 100\n",
      "It takes approximately 4.52 seconds for the ball to hit the ground from a height of 100 meters.\n"
     ]
    }
   ],
   "source": [
    "h = input('Please enter the height of the tower in meters: ')  # 0 = h-(gravity/2)*time^2 => t = sqrt(h*(2/g)) \n",
    "g = 9.80665 \n",
    "t = np.round(np.sqrt(float(h)*(2/g)),decimals=2)\n",
    "print('It takes approximately ' + str(t) + ' seconds for the ball to hit the ground from a height of ' + h +' meters.' )"
   ]
  },
  {
   "cell_type": "markdown",
   "metadata": {},
   "source": [
    "The program calculated that it takes about 4.52 seconds for the ball to hit the ground from a height of 100 meters."
   ]
  },
  {
   "cell_type": "markdown",
   "metadata": {},
   "source": [
    "#### Excercise 2\n",
    "A satellite is to be launched into a circular orbit around the Earth so that it orbits the planet once every $T$ seconds.\n",
    "    \n",
    "**A.** In a Markdown cell and with Latex equations, show that the altitude $h$ above the Earth's surface that the satellite must have is\n",
    "$$\n",
    "h = \\biggl( {GMT^2\\over4\\pi^2} \\biggr)^{1/3} - R,\n",
    "$$ where $G=6.67\\times10^{-11}\\,\\textrm{m}^3\\,\\textrm{kg}^{-1}\\,\\textrm{s}^{-2}$ is Newton's gravitational constant, $M=5.97\\times10^{24}\\textrm{ kg}\\,$ is the mass of the Earth, and $R=6371\\textrm{ km}\\,$ is its radius.\n",
    "\n",
    "**B.** In a Code cell, write a program that asks the user to enter the desired value of $T$ and then calculates and prints out the correct altitude in kilometers, to two decimal places.\n",
    "\n",
    "**C.** Use your program to calculate the altitudes of satellites that orbit the Earth once a day (so-called \"geosynchronous\" orbit), once every 90  minutes, and once every 45 minutes."
   ]
  },
  {
   "cell_type": "markdown",
   "metadata": {},
   "source": [
    "**Answer**"
   ]
  },
  {
   "cell_type": "markdown",
   "metadata": {},
   "source": [
    "### Part A:\n",
    "By Newton's Law of Universal Gravitation we have that $ F=\\frac{GmM}{r^2} $ where $m$ is the mass of the satellite and $r$ is the radius of the orbit. Then by the second law of motion $ F=ma $ and knowing that $ a=\\frac{\\hphantom{a}v^2}{r} $ we obtain $ F=m\\frac{\\hphantom{a}v^2}{r} $. Now, since we know that the satellite travels $ 2\\pi\\textit{r} $ once every $T$ seconds we can deduce that velocity $ v=\\frac{2\\pi\\textit{r}}{T} $. Next, by equating the right side of both expressions and solving for $r$ we find that $ r=\\left(\\frac{GMT^2}{4\\pi^2}\\right)^{1/3} $ Finally, $r$ is the distance from the center of the Earth to the center of the satellite, and $R$ is the distance from the center of the Earth to the surface of the Earth. Therefore, the satellite's altitude $h$ above the Earth is $ r-R $ or in other words $ h= \\left(\\frac{GMT^2}{4\\pi^2}\\right)^{1/3} - R $.\n",
    "\n"
   ]
  },
  {
   "cell_type": "code",
   "execution_count": 3,
   "metadata": {},
   "outputs": [
    {
     "name": "stdout",
     "output_type": "stream",
     "text": [
      "Please enter the desired orbit time of the satellite in seconds: 86400\n",
      "The altitude of the satellite must then be 35855.91 kilometers.\n"
     ]
    }
   ],
   "source": [
    "T = input('Please enter the desired orbit time of the satellite in seconds: ')\n",
    "G = 6.67*10**(-20) #converted meters^3 to kilometers^3 -11 to -20\n",
    "M = 5.97*10**24\n",
    "R = 6371\n",
    "h = np.round( ((G*M*int(T)**2)/(4*np.pi**2))**(1/3) - R, decimals=2)\n",
    "print('The altitude of the satellite must then be ' + str(h) + ' kilometers.')"
   ]
  },
  {
   "cell_type": "markdown",
   "metadata": {},
   "source": [
    "I)   A day has 24*60*60 = 86400 seconds, thus the altitude of a satellite orbiting once a day must then be 35855.91 kilometers.\n",
    "II)  90*60 = 5400 seconds,thus the altitude of the satellite must then be 279.32 kilometers.\n",
    "III) 45*60 = 2700 seconds, thus the altitude of the satellite must then be -2181.56 kilometers which is clearly impossible."
   ]
  },
  {
   "cell_type": "markdown",
   "metadata": {},
   "source": [
    "#### Excercise 3\n",
    "The [Catalan numbers][catalan] $C_n$ are a sequence of integers 1, 1, 2, 5, 14, 42, 132... that play an important role in quantum mechanics and the theory of disordered systems.  (They were central to Eugene Wigner's proof of the so-called semicircle law.)  They are given by \n",
    "$$\n",
    "C_0 = 1,\\qquad C_{n+1} = {4n+2\\over n+2}\\,C_n.\n",
    "$$\n",
    "Write a program that prints in increasing order all Catalan numbers less than or equal to one billion.\n",
    "\n",
    "[catalan]: https://en.wikipedia.org/wiki/Catalan_number"
   ]
  },
  {
   "cell_type": "code",
   "execution_count": 4,
   "metadata": {},
   "outputs": [
    {
     "name": "stdout",
     "output_type": "stream",
     "text": [
      "1\n",
      "1\n",
      "2\n",
      "5\n",
      "14\n",
      "42\n",
      "132\n",
      "429\n",
      "1430\n",
      "4862\n",
      "16796\n",
      "58786\n",
      "208012\n",
      "742900\n",
      "2674440\n",
      "9694845\n",
      "35357670\n",
      "129644790\n",
      "477638700\n"
     ]
    }
   ],
   "source": [
    "a = 1\n",
    "n = 0\n",
    "while a < 10**9:\n",
    "    print(a)\n",
    "    a = int((((4*n)+2)/(n+2))*a)\n",
    "    n = n+1"
   ]
  },
  {
   "cell_type": "markdown",
   "metadata": {},
   "source": [
    "#### Excercise 4\n",
    "\n",
    "The [binomial coefficient][binomial] ${n\\choose k}$ is an integer equal to\n",
    "$$\n",
    "{n\\choose k} = {n!\\over k!(n-k)!}\n",
    "  = {n\\times(n-1)\\times(n-2)\\times\\ldots\\times(n-k+1)\\over\n",
    "     1\\times2\\times\\ldots\\times k}\n",
    "$$\n",
    "when $k\\ge1$, or ${n\\choose0}=1$ when $k=0$.</font>\n",
    "\n",
    "\n",
    "**A.** Using this form for the binomial coefficient, write a user-defined function `binomial(n,k)` that calculates the binomial coefficient for given $n$ and $k$.  Make sure your function returns the answer in the form of an integer (not a float) and gives the correct value of 1 for the case where $k=0$.\n",
    "\n",
    "Use `scipy.special` to access the [`factorial`][factorial] function.\n",
    "\n",
    "**B.** Using your function, write a program to print out the first 20 lines of [*Pascal's triangle*.][pascal]  The $n$-th line of Pascal's triangle contains $n+1$ numbers, which are the coefficients ${n\\choose 0}$, ${n\\choose1}$,   and so on up to ${n\\choose n}$.  Thus the first few lines are\n",
    "\n",
    "```python\n",
    "1 1 \n",
    "1 2 1 \n",
    "1 3 3 1 \n",
    "1 4 6 4 1\n",
    "```\n",
    "\n",
    "**C.** The probability that an unbiased coin, tossed $n$ times, will come up  heads $k$ times is ${n\\choose k}/2^n$.  Write a program to calculate (a) the total probability that a coin tossed 100 times comes up heads exactly 60 times, and (b) the total probability that a coin tossed 100 times comes up heads 60 or more times.</font>\n",
    "\n",
    "[binomial]: https://en.wikipedia.org/wiki/Binomial_coefficient\n",
    "[pascal]: https://en.wikipedia.org/wiki/Pascal%27s_triangle\n",
    "[factorial]: https://docs.scipy.org/doc/scipy/reference/generated/scipy.special.factorial.html\n"
   ]
  },
  {
   "cell_type": "markdown",
   "metadata": {},
   "source": [
    "<div class=\"alert alert-block alert-info\">\n",
    "    <b>Tip:</b> In the Pascal's Traingle, each line grows in the number of elements. If you are printing the elements one by one, and you <strong>do not</strong> want a <tt>print</tt> commmand to move to the next line autoamtically, use the option <tt>print(x,end='')</tt>.\n",
    "    \n",
    "When you want to insert a line break, just print a single space character; <tt>print(' ')</tt>\n",
    "</div>"
   ]
  },
  {
   "cell_type": "code",
   "execution_count": 5,
   "metadata": {},
   "outputs": [
    {
     "name": "stdout",
     "output_type": "stream",
     "text": [
      "5\n",
      "6\n",
      "1\n",
      "1\n"
     ]
    }
   ],
   "source": [
    "## Part A ##\n",
    "\n",
    "\n",
    "def binomial(n,k):\n",
    "    return int(factorial(n,exact=True)/(factorial(k,exact=True)*factorial(n-k,exact=True)))\n",
    "\n",
    "\n",
    "# Some test cases #\n",
    "\n",
    "print(binomial(5,1))\n",
    "print(binomial(4,2))\n",
    "print(binomial(3,0))\n",
    "print(binomial(0,0))\n",
    "\n",
    "## Test cases which should return errors ##\n",
    "\n",
    "#print(binomial(3,4))\n",
    "#print(binomial(3.4,2.2))\n",
    "#print(binomial(-3,-4))\n",
    "#print(binomial(-3,-2))"
   ]
  },
  {
   "cell_type": "code",
   "execution_count": 6,
   "metadata": {},
   "outputs": [
    {
     "name": "stdout",
     "output_type": "stream",
     "text": [
      " 1 1\n",
      " 1 2 1\n",
      " 1 3 3 1\n",
      " 1 4 6 4 1\n",
      " 1 5 10 10 5 1\n",
      " 1 6 15 20 15 6 1\n",
      " 1 7 21 35 35 21 7 1\n",
      " 1 8 28 56 70 56 28 8 1\n",
      " 1 9 36 84 126 126 84 36 9 1\n",
      " 1 10 45 120 210 252 210 120 45 10 1\n",
      " 1 11 55 165 330 462 462 330 165 55 11 1\n",
      " 1 12 66 220 495 792 924 792 495 220 66 12 1\n",
      " 1 13 78 286 715 1287 1716 1716 1287 715 286 78 13 1\n",
      " 1 14 91 364 1001 2002 3003 3432 3003 2002 1001 364 91 14 1\n",
      " 1 15 105 455 1365 3003 5005 6435 6435 5005 3003 1365 455 105 15 1\n",
      " 1 16 120 560 1820 4368 8008 11440 12870 11440 8008 4368 1820 560 120 16 1\n",
      " 1 17 136 680 2380 6188 12376 19448 24310 24310 19448 12376 6188 2380 680 136 17 1\n",
      " 1 18 153 816 3060 8568 18564 31824 43758 48620 43758 31824 18564 8568 3060 816 153 18 1\n",
      " 1 19 171 969 3876 11628 27132 50388 75582 92378 92378 75582 50388 27132 11628 3876 969 171 19 1\n",
      " 1 20 190 1140 4845 15504 38760 77520 125970 167960 184756 167960 125970 77520 38760 15504 4845 1140 190 20 1\n",
      "\n",
      "\n",
      "                                                               1\n",
      "                                                           1       1\n",
      "                                                       1       2       1\n",
      "                                                   1       3       3       1\n",
      "                                               1       4       6       4       1\n",
      "                                           1       5      10      10       5       1\n",
      "                                       1       6      15      20      15       6       1\n",
      "                                   1       7      21      35      35      21       7       1\n",
      "                               1       8      28      56      70      56      28       8       1\n",
      "                           1       9      36      84     126     126      84      36       9       1\n",
      "                       1      10      45     120     210     252     210     120      45      10       1\n",
      "                   1      11      55     165     330     462     462     330     165      55      11       1\n",
      "               1      12      66     220     495     792     924     792     495     220      66      12       1\n",
      "           1      13      78     286     715    1287    1716    1716    1287     715     286      78      13       1\n"
     ]
    }
   ],
   "source": [
    "## Part B ##\n",
    "\n",
    "k=20\n",
    "for n in range(1,k+1):\n",
    "    myString=''\n",
    "    for i in range(n+1):\n",
    "        myString = myString + ' ' + str(binomial(n,i))\n",
    "    print(myString)\n",
    "\n",
    "\n",
    "#The following code outputs pascal's triangle as an actual triangle (only works up to k=14 since it runs out of space)\n",
    "print('\\n')\n",
    "k=14 \n",
    "space = len(str(binomial(k,np.floor(k/2)))) #returns number of digits of largest value\n",
    "\n",
    "for n in range(k):\n",
    "    myString = (k-n)*space*' '\n",
    "    for i in range(n+1):\n",
    "        myString = myString + (space+space-len(str(binomial(n,i))))*' ' + str(binomial(n,i))\n",
    "    print(myString)"
   ]
  },
  {
   "cell_type": "code",
   "execution_count": 7,
   "metadata": {},
   "outputs": [
    {
     "name": "stdout",
     "output_type": "stream",
     "text": [
      "The probability that 60 \"heads\" will be observed after tossing a fair coin 100 times is 0.0108 or 1.08%.\n",
      "The probability that the number of \"heads\" observed will be 60 or greater is 0.0284 or 2.84%.\n"
     ]
    }
   ],
   "source": [
    "## Part C ##\n",
    "\n",
    "#i)\n",
    "\n",
    "pOf60 = np.round(binomial(100,60)/(2**100),decimals=4)\n",
    "print('The probability that 60 \"heads\" will be observed after tossing a fair coin 100 times is ' + str(pOf60) + ' or ' + str(pOf60*100) + '%.')\n",
    "\n",
    "\n",
    "#ii)\n",
    "\n",
    "mySum = 0\n",
    "for i in range(60,101):\n",
    "    mySum = mySum + binomial(100,i)/(2**100)\n",
    "    \n",
    "pOf60orMore = np.round(mySum,decimals=4)\n",
    "print('The probability that the number of \"heads\" observed will be 60 or greater is ' + str(pOf60orMore) + ' or ' + str(np.round(pOf60orMore*100,decimals=2)) + '%.' )\n",
    "\n",
    "\n",
    "\n",
    "#Alternative solution\n",
    "\n",
    "#complement = 0\n",
    "#for i in range(41):\n",
    "#    complement = complement + (binomial(100,i)/(2**100))\n",
    "\n",
    "#pOf60orMore = np.round(complement,decimals=4)\n",
    "#print(pOf60orMore)"
   ]
  },
  {
   "cell_type": "code",
   "execution_count": null,
   "metadata": {},
   "outputs": [],
   "source": [
    "for i in range(20)"
   ]
  }
 ],
 "metadata": {
  "kernelspec": {
   "display_name": "Python 3",
   "language": "python",
   "name": "python3"
  },
  "language_info": {
   "codemirror_mode": {
    "name": "ipython",
    "version": 3
   },
   "file_extension": ".py",
   "mimetype": "text/x-python",
   "name": "python",
   "nbconvert_exporter": "python",
   "pygments_lexer": "ipython3",
   "version": "3.7.7"
  }
 },
 "nbformat": 4,
 "nbformat_minor": 4
}

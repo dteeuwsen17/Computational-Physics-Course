{
 "cells": [
  {
   "cell_type": "markdown",
   "metadata": {},
   "source": [
    "# Homework 06 - Limitations of computation Daniel Teeuwsen"
   ]
  },
  {
   "cell_type": "markdown",
   "metadata": {},
   "source": [
    "#### Excercise 1\n",
    "\n",
    "Let $a=b=1$. Write a short program that keeps dividing $b$ in half until the computer decides that $a+b=a$. Print out the value of $b$, and the number of times $b$ was divided. Try again with $a=b=100,000$"
   ]
  },
  {
   "cell_type": "code",
   "execution_count": 1,
   "metadata": {},
   "outputs": [
    {
     "name": "stdout",
     "output_type": "stream",
     "text": [
      "1.0\n",
      "1.1102230246251565e-16\n",
      "53\n"
     ]
    }
   ],
   "source": [
    "import numpy as np\n",
    "import time\n",
    "import matplotlib.pyplot as plt\n",
    "\n",
    "a = 1.0\n",
    "b = 1.0\n",
    "count = 0\n",
    "\n",
    "while a+b != a:\n",
    "    b = b/2\n",
    "    count = count+1\n",
    "print(a+b)\n",
    "print(b)\n",
    "print(count)\n"
   ]
  },
  {
   "cell_type": "code",
   "execution_count": 2,
   "metadata": {},
   "outputs": [
    {
     "name": "stdout",
     "output_type": "stream",
     "text": [
      "100000.0\n",
      "5.551115123125783e-12\n",
      "54\n"
     ]
    }
   ],
   "source": [
    "a = 100000.0\n",
    "b = 100000.0\n",
    "count = 0\n",
    "\n",
    "while a+b != a:\n",
    "    b = b/2\n",
    "    count = count+1\n",
    "print(a+b)\n",
    "print(b)\n",
    "print(count)"
   ]
  },
  {
   "cell_type": "markdown",
   "metadata": {},
   "source": [
    "#### Excercise 2\n",
    "\n",
    "What is the percent error between the true and computed value of the function\n",
    "$$\\frac{(1+x)-1}{x}$$ \n",
    "when $x=1\\times10^{-15}$?\n",
    "\n",
    "What about when $x=1\\times10^{-13}$\n"
   ]
  },
  {
   "cell_type": "code",
   "execution_count": 3,
   "metadata": {},
   "outputs": [
    {
     "name": "stdout",
     "output_type": "stream",
     "text": [
      "Computed value when x=10^-15: 1.1102230246251565\n",
      "Percent error value when x=10^-15: 11.0223%\n"
     ]
    }
   ],
   "source": [
    "computedVal1 = ((1+10**(-15))-1)/(10**(-15))\n",
    "errorVal1 = np.round((np.abs(1-computedVal1))*100, decimals=4)\n",
    "\n",
    "print('Computed value when x=10^-15: '+ str(computedVal1))\n",
    "print('Percent error value when x=10^-15: '+ str(errorVal1) + '%')"
   ]
  },
  {
   "cell_type": "code",
   "execution_count": 4,
   "metadata": {},
   "outputs": [
    {
     "name": "stdout",
     "output_type": "stream",
     "text": [
      "Computed value when x=10^-13: 0.9992007221626409\n",
      "Percent error value when x=10^-13: 0.0799%\n"
     ]
    }
   ],
   "source": [
    "computedVal2 = ((1+10**(-13))-1)/(10**(-13))\n",
    "errorVal2 = np.round((np.abs(1-computedVal2))*100, decimals=4)\n",
    "\n",
    "print('Computed value when x=10^-13: '+ str(computedVal2))\n",
    "print('Percent error value when x=10^-13: '+ str(errorVal2) + '%')"
   ]
  },
  {
   "cell_type": "markdown",
   "metadata": {},
   "source": [
    "#### Excercise 3\n",
    "Consider the following two equations.\n",
    "$$ x=1\\quad y=1+10^{-14}\\sqrt{2}$$\n",
    "\n",
    "Write a small program the prints all the digits of $10^{+14}(y-x)$, and compare with the actual, correct result."
   ]
  },
  {
   "cell_type": "code",
   "execution_count": 5,
   "metadata": {},
   "outputs": [
    {
     "name": "stdout",
     "output_type": "stream",
     "text": [
      "Computed value of equation = 1.4210854715202004\n",
      "\"true\" value of equation ie (sqrt(2)) = 1.4142135623730951\n"
     ]
    }
   ],
   "source": [
    "# lol sqrt(2) has an infinite decimal expansion so printing all the digits is impossible\n",
    "\n",
    "x = 1.0\n",
    "y = 1+10**(-14)*np.sqrt(2)\n",
    "\n",
    "print('Computed value of equation = ' + str(10**14*(y-x)))\n",
    "print('\"true\" value of equation ie (sqrt(2)) = ' + str(np.sqrt(2)))"
   ]
  },
  {
   "cell_type": "markdown",
   "metadata": {},
   "source": [
    "#### Excercise 4\n",
    "\n",
    "Consider a simple quadratic equation $ax^2+bx+c=0$,  that has real solutions.\n",
    "\n",
    "Write a program with a function that takes as input the three coefficients $a,b,c$ and prints out the two solutions using the standard formula\n",
    "$$x=\\frac{-b\\pm\\sqrt{b^2-4ac}}{2a}.$$ \n",
    "**A.** Use the program to compute and print the solutions of $x^2-25.0=0$ using scientific notation.\n",
    "\n",
    "**B.** Use the program to compute and print the solutions of $0.0001x^2+1000x+0.0001=0$  using scientific notation.\n",
    "\n",
    "\n",
    "There's another way to write the quadratic equation. Write a second program that takes as input the three coefficients $a,b,c$ and prints out the two solutions using the other formula\n",
    "$$x=\\frac{2c}{-b\\mp\\sqrt{b^2-4ac}}.$$ \n",
    "**C.** Solve the same equations as before with this method.\n",
    "\n",
    "**D.** What do you notice about the accuracy of both methods? Why is that?"
   ]
  },
  {
   "cell_type": "markdown",
   "metadata": {},
   "source": [
    "<div class=\"alert alert-block alert-info\">\n",
    "<b>Tip:</b> To format output in scientific notation the value in a variable <tt>x</tt>:\n",
    "<code> print(f\"Value: {x:E}\")</code>\n",
    "</div>"
   ]
  },
  {
   "cell_type": "code",
   "execution_count": 6,
   "metadata": {},
   "outputs": [
    {
     "name": "stdout",
     "output_type": "stream",
     "text": [
      "Equation 1\n",
      "root1: 5.000000E+00\n",
      "root2: -5.000000E+00\n",
      "\n",
      "\n",
      "root1: -1.000444E-07\n",
      "root2: -1.000000E+07\n",
      "\n",
      "\n",
      "Equation 2\n",
      "root1: 5.000000E+00\n",
      "root2: -5.000000E+00\n",
      "\n",
      "\n",
      "root1: -1.000000E-07\n",
      "root2: -9.995560E+06\n",
      "\n",
      "\n"
     ]
    }
   ],
   "source": [
    "def QuadEq1(a,b,c):\n",
    "    root1 = (-b+np.sqrt(b*b-4*a*c))/(2*a)\n",
    "    root2 = (-b-np.sqrt(b*b-4*a*c))/(2*a)\n",
    "    #print(root1)\n",
    "    #print(root2)\n",
    "    print(f\"root1: {root1:E}\")\n",
    "    print(f\"root2: {root2:E}\")\n",
    "\n",
    "print('Equation 1')\n",
    "QuadEq1(1.0, 0, -25.0)\n",
    "print('\\n')\n",
    "QuadEq1(0.0001, 1000, 0.0001)\n",
    "print('\\n')\n",
    "\n",
    "\n",
    "def QuadEq2(a,b,c):\n",
    "    root1 = (2*c)/(-b-np.sqrt(b*b-4*a*c))\n",
    "    root2 = (2*c)/(-b+np.sqrt(b*b-4*a*c))\n",
    "    #print(root1)\n",
    "    #print(root2)\n",
    "    print(f\"root1: {root1:E}\")\n",
    "    print(f\"root2: {root2:E}\")\n",
    "\n",
    "print('Equation 2')\n",
    "QuadEq2(1.0, 0, -25.0)\n",
    "print('\\n')\n",
    "QuadEq2(0.0001, 1000, 0.0001)\n",
    "print('\\n')"
   ]
  },
  {
   "cell_type": "markdown",
   "metadata": {},
   "source": [
    "**Answer**\n",
    "The two functions produce different results due to loss of significance. Since b>0 => -b<0 and sqrt(b^2-4ac) approx== b finding root1 with the first equation requires the operation -b+approx(b) which will result in a \"catastrophic cancellation.\" Similarly finding root2 with the second equation will also result in a catastrophic cancellation. Thus, root1 is more precise using the second equation and root2 is more precise using the first equation. In practice, only one equation is necessary since we can use Viete's formula root1 * root2 = c/a to find the other root."
   ]
  },
  {
   "cell_type": "markdown",
   "metadata": {},
   "source": [
    "#### Excercise 5\n",
    "\n",
    "Plot 401 equally spaced points around the $x$ values of $(1-2\\times10^{-8})$ to $(1+2\\times10^{-8})$ of the function\n",
    "$$f(x)=x^7-7x^6+21x^5-35x^4+35x^3-21x^2+7x-1.$$\n",
    "This function is of course, $(x-1)^7$, which since $x$ is so close to 1, should be a nearly constant smooth curve close to zero. What did you get? "
   ]
  },
  {
   "cell_type": "code",
   "execution_count": 7,
   "metadata": {},
   "outputs": [
    {
     "name": "stdout",
     "output_type": "stream",
     "text": [
      "0.99999998\n",
      "1.00000002\n",
      "1.0000000022492017e-10\n"
     ]
    },
    {
     "data": {
      "text/plain": [
       "[<matplotlib.lines.Line2D at 0x24192ba6b80>]"
      ]
     },
     "execution_count": 7,
     "metadata": {},
     "output_type": "execute_result"
    },
    {
     "data": {
      "image/png": "[encoded data removed]",
      "text/plain": [
       "<Figure size 432x288 with 1 Axes>"
      ]
     },
     "metadata": {
      "needs_background": "light"
     },
     "output_type": "display_data"
    }
   ],
   "source": [
    "low = 1-(2*10**(-8))\n",
    "high = 1+(2*10**(-8))\n",
    "\n",
    "def f(x):\n",
    "    return x**7-7*x**6+21*x**5-35*x**4+35*x**3-21*x**2+7*x-1\n",
    "\n",
    "points,stepSize = np.linspace(low,high,401, retstep=True)\n",
    "\n",
    "print(low)\n",
    "print(high)\n",
    "print(stepSize)\n",
    "plt.xlabel(r'1+x*10^-8', fontsize=15, color='black')\n",
    "plt.ylabel(r'Expansion of (x-1)^7', fontsize=15, color='black')\n",
    "plt.title('Float Arithmetic Precision Test', fontsize=20, color='black')\n",
    "plt.yscale('log')\n",
    "plt.plot(points,f(points))"
   ]
  },
  {
   "cell_type": "markdown",
   "metadata": {},
   "source": [
    "**Answer:**\n",
    "The result is clearly not smooth. Seems to oscillate between 10^-14 and 10^-15."
   ]
  },
  {
   "cell_type": "markdown",
   "metadata": {},
   "source": [
    "#### Excercise 6\n",
    "\n",
    "Let's explore how careful algorithmic complexity can increase the speed of a problem.\n",
    "\n",
    "**A.** Write a program using the standard three-loop algorithm that multiplies two $N\\times N$ matricies, where $N\\geq10$. Time how long it takes in seconds. Use the following code to generate random number matricies, and time the multiplication. Print out the first 5 elements of the first row of your matrix.\n",
    "\n",
    "By declaring the matrix `C` early, we can ensure that all the memory needed to hold the arrays is set at the beginning, and that no time is spent creating space or growing arrays to hold the values.\n",
    "```python\n",
    "import time\n",
    "import numpy\n",
    "N=25\n",
    "A=numpy.random.rand(N,N)\n",
    "B=numpy.random.rand(N,N)\n",
    "C=numpy.zeros([N,N],float)\n",
    "\n",
    "start_time = time.time()\n",
    "# DO THE MULTIPLICATION LOOPS HERE\n",
    "end_time = time.time()\n",
    "print(f\"Time elapsed: {end_time-start_time} seconds\")\n",
    "```\n",
    "\n",
    "**B.** Now use the `numpy.dot` function to multiply the same matricies $A$ and $B$. Make sure you get the same result as above, by comparing at least the first 5 elements of the first row of the result. \n",
    "\n",
    "**C.** Try larger and larger values of $N$ (up to about 250) and time how long it takes for the three-loops long way, and for the `numpy.dot` method.\n",
    "\n",
    "* Which method is faster when $N$ is small, for example, $N=10$?\n",
    "* What value of $N$ did your method start to take more than 1 second?\n",
    "* How much faster is the `numpy.dot` method to yours for $N=250$?"
   ]
  },
  {
   "cell_type": "code",
   "execution_count": 13,
   "metadata": {},
   "outputs": [
    {
     "name": "stdout",
     "output_type": "stream",
     "text": [
      "Method 1 Time elapsed: 0.08095192909240723 seconds\n",
      "\n",
      "\n",
      "5.562800846773616\n",
      "7.016886906988166\n",
      "5.393874418213552\n",
      "5.747942288234664\n",
      "6.412868589651748\n",
      "\n",
      "\n",
      "Method 2 Time elapsed: 0.0009968280792236328 seconds\n",
      "\n",
      "\n",
      "5.562800846773616\n",
      "7.016886906988165\n",
      "5.393874418213552\n",
      "5.747942288234664\n",
      "6.412868589651747\n"
     ]
    }
   ],
   "source": [
    "N = 25\n",
    "A = np.random.rand(N,N)\n",
    "B = np.random.rand(N,N)\n",
    "C = np.zeros([N,N],float)\n",
    "D = np.zeros([N,N],float)\n",
    "element = 0\n",
    "\n",
    "start_time = time.time()\n",
    "\n",
    "for i in range(N):\n",
    "    for j in range(N):\n",
    "        for k in range(N):\n",
    "            element = element + A[i][k]*B[k][j]\n",
    "\n",
    "        C[i][j] = element\n",
    "        element = 0\n",
    "    \n",
    "end_time = time.time()\n",
    "print(f\"Method 1 Time elapsed: {end_time-start_time} seconds\")\n",
    "print('\\n')\n",
    "\n",
    "for i in range(5):\n",
    "    print(C[0][i])\n",
    "\n",
    "print('\\n')\n",
    "start_time2 = time.time()\n",
    "\n",
    "np.dot(A,B,out=D)\n",
    "\n",
    "end_time2 = time.time()\n",
    "print(f\"Method 2 Time elapsed: {end_time2-start_time2} seconds\")\n",
    "print('\\n')\n",
    "\n",
    "for i in range(5):\n",
    "    print(D[0][i])"
   ]
  },
  {
   "cell_type": "markdown",
   "metadata": {},
   "source": [
    "**Answer:**\n",
    "\n"
   ]
  },
  {
   "cell_type": "markdown",
   "metadata": {},
   "source": [
    "-For very small N the first method is faster. For example, it is faster when N<=5, when N=6 sometimes method 1 is faster and sometimes it is slower. For N>=7 the second method is faster.\n",
    "\n",
    "-For N>=80 the first method began to consistently take longer than one second.\n",
    "\n",
    "-When N=250 the second method is approximately 35 seconds faster."
   ]
  }
 ],
 "metadata": {
  "kernelspec": {
   "display_name": "Python 3",
   "language": "python",
   "name": "python3"
  },
  "language_info": {
   "codemirror_mode": {
    "name": "ipython",
    "version": 3
   },
   "file_extension": ".py",
   "mimetype": "text/x-python",
   "name": "python",
   "nbconvert_exporter": "python",
   "pygments_lexer": "ipython3",
   "version": "3.7.7"
  }
 },
 "nbformat": 4,
 "nbformat_minor": 2
}
